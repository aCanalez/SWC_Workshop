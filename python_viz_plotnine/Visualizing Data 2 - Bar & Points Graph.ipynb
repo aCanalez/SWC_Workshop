{
 "cells": [
  {
   "cell_type": "code",
   "execution_count": 57,
   "metadata": {},
   "outputs": [],
   "source": [
    "from plotnine import *\n",
    "import pandas as pd\n",
    "\n",
    "gapminder=pd.read_table(\"gapminder.txt\")"
   ]
  },
  {
   "cell_type": "code",
   "execution_count": 63,
   "metadata": {},
   "outputs": [],
   "source": [
    "def SelectDataByCont(df,continents_list):\n",
    "    \"\"\"\"select fata for continents given in the 'continents_list' from datafram 'df'\"\"\"\n",
    "    dataSubset=df.loc[df['continent'].isin(continents_list),:]\n",
    "    return dataSubset\n",
    "def GetMeansByCategory(df,groupby_list):\n",
    "    \"\"\"\"calculate the means of data from 'df' grouped by categories give in 'groupby_list'\"\"\"\n",
    "    dataMeans=df.groupby(groupby_list, as_index=False).mean()\n",
    "    return dataMeans\n",
    "def MakeBarPlot(df):\n",
    "    \"\"\"\"make a barplot with data from 'df'\"\"\"\n",
    "    p= ggplot(df, aes(x = 'continent', y = 'gdpPercap', fill='continent')) +\\\n",
    "        geom_bar(stat='stat_identity', color=\"grey\", show_legend=False) +\\\n",
    "        labs(\n",
    "            x='Continent',\n",
    "            y='GDP per capita',\n",
    "            title='GDP per capita: a comparison'\n",
    "            )\n",
    "    return p"
   ]
  },
  {
   "cell_type": "code",
   "execution_count": 69,
   "metadata": {},
   "outputs": [
    {
     "data": {
      "text/plain": [
       "array(['Africa', 'Americas'], dtype=object)"
      ]
     },
     "execution_count": 69,
     "metadata": {},
     "output_type": "execute_result"
    }
   ],
   "source": [
    "ToSelect=['Africa','Americas']\n",
    "myNewData=SelectDataByCont(gapminder, ToSelect)\n",
    "myNewData['continent'].unique()"
   ]
  },
  {
   "cell_type": "code",
   "execution_count": 70,
   "metadata": {},
   "outputs": [
    {
     "data": {
      "text/html": [
       "<div>\n",
       "<style scoped>\n",
       "    .dataframe tbody tr th:only-of-type {\n",
       "        vertical-align: middle;\n",
       "    }\n",
       "\n",
       "    .dataframe tbody tr th {\n",
       "        vertical-align: top;\n",
       "    }\n",
       "\n",
       "    .dataframe thead th {\n",
       "        text-align: right;\n",
       "    }\n",
       "</style>\n",
       "<table border=\"1\" class=\"dataframe\">\n",
       "  <thead>\n",
       "    <tr style=\"text-align: right;\">\n",
       "      <th></th>\n",
       "      <th>continent</th>\n",
       "      <th>year</th>\n",
       "      <th>lifeExp</th>\n",
       "      <th>pop</th>\n",
       "      <th>gdpPercap</th>\n",
       "    </tr>\n",
       "  </thead>\n",
       "  <tbody>\n",
       "    <tr>\n",
       "      <th>0</th>\n",
       "      <td>Africa</td>\n",
       "      <td>1979.5</td>\n",
       "      <td>48.865330</td>\n",
       "      <td>9.916003e+06</td>\n",
       "      <td>2193.754578</td>\n",
       "    </tr>\n",
       "    <tr>\n",
       "      <th>1</th>\n",
       "      <td>Americas</td>\n",
       "      <td>1979.5</td>\n",
       "      <td>64.658737</td>\n",
       "      <td>2.450479e+07</td>\n",
       "      <td>7136.110356</td>\n",
       "    </tr>\n",
       "  </tbody>\n",
       "</table>\n",
       "</div>"
      ],
      "text/plain": [
       "  continent    year    lifeExp           pop    gdpPercap\n",
       "0    Africa  1979.5  48.865330  9.916003e+06  2193.754578\n",
       "1  Americas  1979.5  64.658737  2.450479e+07  7136.110356"
      ]
     },
     "execution_count": 70,
     "metadata": {},
     "output_type": "execute_result"
    }
   ],
   "source": [
    "#define grouping variable as continent\n",
    "groupBy=['continent']\n",
    "\n",
    "#Various functions we can apply to each group, for example:\n",
    "groupedData_means=myNewData.groupby('continent', as_index=False).mean()\n",
    "groupedData_sums=myNewData.groupby('continent', as_index=False).sum()\n",
    "groupedData_count=myNewData.groupby('continent', as_index=False).count()\n",
    "\n",
    "\n",
    "#call GetMeansByCategory(df,groupby_list)\n",
    "myNewData_meanPerCont=GetMeansByCategory(myNewData,groupBy)\n",
    "myNewData_meanPerCont"
   ]
  },
  {
   "cell_type": "code",
   "execution_count": 71,
   "metadata": {},
   "outputs": [
    {
     "data": {
      "image/png": "[encoded data removed]",
      "text/plain": [
       "<Figure size 640x480 with 1 Axes>"
      ]
     },
     "metadata": {},
     "output_type": "display_data"
    },
    {
     "name": "stdout",
     "output_type": "stream",
     "text": [
      "<ggplot: (-9223372029299258862)>\n"
     ]
    }
   ],
   "source": [
    "p=MakeBarPlot(myNewData_meanPerCont)\n",
    "print(p)"
   ]
  },
  {
   "cell_type": "code",
   "execution_count": 73,
   "metadata": {},
   "outputs": [
    {
     "data": {
      "text/html": [
       "<div>\n",
       "<style scoped>\n",
       "    .dataframe tbody tr th:only-of-type {\n",
       "        vertical-align: middle;\n",
       "    }\n",
       "\n",
       "    .dataframe tbody tr th {\n",
       "        vertical-align: top;\n",
       "    }\n",
       "\n",
       "    .dataframe thead th {\n",
       "        text-align: right;\n",
       "    }\n",
       "</style>\n",
       "<table border=\"1\" class=\"dataframe\">\n",
       "  <thead>\n",
       "    <tr style=\"text-align: right;\">\n",
       "      <th></th>\n",
       "      <th>continent</th>\n",
       "      <th>country</th>\n",
       "      <th>year</th>\n",
       "      <th>lifeExp</th>\n",
       "      <th>pop</th>\n",
       "      <th>gdpPercap</th>\n",
       "    </tr>\n",
       "  </thead>\n",
       "  <tbody>\n",
       "    <tr>\n",
       "      <th>0</th>\n",
       "      <td>Africa</td>\n",
       "      <td>Algeria</td>\n",
       "      <td>1979.5</td>\n",
       "      <td>59.030167</td>\n",
       "      <td>1.987541e+07</td>\n",
       "      <td>4426.025973</td>\n",
       "    </tr>\n",
       "    <tr>\n",
       "      <th>1</th>\n",
       "      <td>Africa</td>\n",
       "      <td>Angola</td>\n",
       "      <td>1979.5</td>\n",
       "      <td>37.883500</td>\n",
       "      <td>7.309390e+06</td>\n",
       "      <td>3607.100529</td>\n",
       "    </tr>\n",
       "    <tr>\n",
       "      <th>2</th>\n",
       "      <td>Africa</td>\n",
       "      <td>Benin</td>\n",
       "      <td>1979.5</td>\n",
       "      <td>48.779917</td>\n",
       "      <td>4.017497e+06</td>\n",
       "      <td>1155.395107</td>\n",
       "    </tr>\n",
       "    <tr>\n",
       "      <th>3</th>\n",
       "      <td>Africa</td>\n",
       "      <td>Botswana</td>\n",
       "      <td>1979.5</td>\n",
       "      <td>54.597500</td>\n",
       "      <td>9.711862e+05</td>\n",
       "      <td>5031.503557</td>\n",
       "    </tr>\n",
       "    <tr>\n",
       "      <th>4</th>\n",
       "      <td>Africa</td>\n",
       "      <td>Burkina_Faso</td>\n",
       "      <td>1979.5</td>\n",
       "      <td>44.694000</td>\n",
       "      <td>7.548677e+06</td>\n",
       "      <td>843.990665</td>\n",
       "    </tr>\n",
       "  </tbody>\n",
       "</table>\n",
       "</div>"
      ],
      "text/plain": [
       "  continent       country    year    lifeExp           pop    gdpPercap\n",
       "0    Africa       Algeria  1979.5  59.030167  1.987541e+07  4426.025973\n",
       "1    Africa        Angola  1979.5  37.883500  7.309390e+06  3607.100529\n",
       "2    Africa         Benin  1979.5  48.779917  4.017497e+06  1155.395107\n",
       "3    Africa      Botswana  1979.5  54.597500  9.711862e+05  5031.503557\n",
       "4    Africa  Burkina_Faso  1979.5  44.694000  7.548677e+06   843.990665"
      ]
     },
     "execution_count": 73,
     "metadata": {},
     "output_type": "execute_result"
    }
   ],
   "source": [
    "groupBy_2=['continent','country']\n",
    "\n",
    "#call GetMeansByCategory(df,groupby_list)\n",
    "myNewData_meanPerCountry=GetMeansByCategory(myNewData,groupBy_2)\n",
    "myNewData_meanPerCountry.head()"
   ]
  },
  {
   "cell_type": "code",
   "execution_count": 78,
   "metadata": {},
   "outputs": [
    {
     "data": {
      "image/png": "[encoded data removed]",
      "text/plain": [
       "<Figure size 640x480 with 1 Axes>"
      ]
     },
     "metadata": {},
     "output_type": "display_data"
    },
    {
     "name": "stdout",
     "output_type": "stream",
     "text": [
      "<ggplot: (-9223372029299638661)>\n"
     ]
    },
    {
     "name": "stderr",
     "output_type": "stream",
     "text": [
      "/anaconda3/lib/python3.7/site-packages/plotnine/ggplot.py:706: UserWarning: Saving 5 x 4 in image.\n",
      "  from_inches(height, units), units))\n",
      "/anaconda3/lib/python3.7/site-packages/plotnine/ggplot.py:707: UserWarning: Filename: GDP_Africa_Americas.png\n",
      "  warn('Filename: {}'.format(filename))\n"
     ]
    }
   ],
   "source": [
    "p1=p+geom_point(myNewData_meanPerCountry,aes(x = 'continent', y = 'gdpPercap'),\n",
    "               fill='black',\n",
    "               position=position_jitter(width=0.03),\n",
    "               alpha=0.5)\n",
    "print(p1)\n",
    "p1.save(filename=\"GDP_Africa_Americas.png\", height=4, width=5, units='in')"
   ]
  }
 ],
 "metadata": {
  "kernelspec": {
   "display_name": "Python 3",
   "language": "python",
   "name": "python3"
  },
  "language_info": {
   "codemirror_mode": {
    "name": "ipython",
    "version": 3
   },
   "file_extension": ".py",
   "mimetype": "text/x-python",
   "name": "python",
   "nbconvert_exporter": "python",
   "pygments_lexer": "ipython3",
   "version": "3.7.1"
  }
 },
 "nbformat": 4,
 "nbformat_minor": 2
}
